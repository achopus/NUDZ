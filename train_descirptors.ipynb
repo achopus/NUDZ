{
 "cells": [
  {
   "cell_type": "code",
   "execution_count": 1,
   "metadata": {},
   "outputs": [],
   "source": [
    "from dataset_descriptor import DatasetDescriptor, get_dataloader\n",
    "from net_FC import NetFC\n",
    "from loss import ContrastiveLoss\n",
    "\n",
    "import matplotlib.pyplot as plt\n",
    "import torch\n",
    "import torch.nn.functional as F\n",
    "import numpy as np"
   ]
  },
  {
   "cell_type": "code",
   "execution_count": 2,
   "metadata": {},
   "outputs": [],
   "source": [
    "device = torch.device('cuda') if torch.cuda.is_available() else torch.device('cpu')\n",
    "n_epochs = 250\n",
    "learning_rate = 1e-3\n",
    "batch_size = 50\n",
    "\n",
    "data_all = DatasetDescriptor('data_descriptors.py.npy', 'labels.py.npy', transform_strength=3e-4)\n",
    "dataset_train, dataset_valid = data_all.generate_train_validation_split()\n",
    "\n",
    "train_loader = get_dataloader(dataset_train, batch_size=batch_size, shuffle=True)\n",
    "valid_loader = get_dataloader(dataset_valid, batch_size=batch_size, shuffle=False)\n",
    "cluster_loader = get_dataloader(data_all, batch_size=batch_size, shuffle=True)\n",
    "cluster_loader_viz = get_dataloader(data_all, batch_size=batch_size, shuffle=False)\n",
    "\n",
    "layers = [1080, 1080, 1080, 64]"
   ]
  },
  {
   "cell_type": "markdown",
   "metadata": {},
   "source": [
    "## Train classification"
   ]
  },
  {
   "cell_type": "code",
   "execution_count": null,
   "metadata": {},
   "outputs": [],
   "source": [
    "accuracy_train = np.zeros(n_epochs)\n",
    "accuracy_valid = np.zeros(n_epochs)\n",
    "\n",
    "loss = F.cross_entropy\n",
    "n_classes = 10\n",
    "model = NetFC(layers, n_classes)\n",
    "model = model.to(device)\n",
    "optimizer = torch.optim.SGD(model.parameters(), lr=learning_rate, momentum=0.75)\n",
    "scheduler = torch.optim.lr_scheduler.StepLR(optimizer, step_size=25, gamma=0.5)\n",
    "\n",
    "for n in range(n_epochs):\n",
    "    \n",
    "    model.train()\n",
    "    for i, blob in enumerate(train_loader):\n",
    "        #print(f\"\\rEpoch {n}: Progress: {round(100 * i / len(loader), 2)} %\", end='')\n",
    "        optimizer.zero_grad()\n",
    "\n",
    "        data, targets = [x.to(device).float() for x in blob]\n",
    "        predictions = model(data)\n",
    "        l = loss(predictions, targets)\n",
    "        l.backward()\n",
    "\n",
    "        optimizer.step()\n",
    "    scheduler.step()\n",
    "    \n",
    "    model.eval()\n",
    "    with torch.no_grad():\n",
    "        N = 0\n",
    "        C = 0\n",
    "        for i, blob in enumerate(train_loader):\n",
    "            data, targets = [x.to(device=device).float() for x in blob]\n",
    "            predictions = model(data)\n",
    "            C += torch.sum(torch.argmax(predictions, dim=1) == torch.argmax(targets, dim=1))\n",
    "            N += predictions.shape[0]\n",
    "\n",
    "        #print(f\"Epoch {str(n).rjust(4)} TRAIN| Accuracy: {round(100 * C.cpu().item() / N, 2)}%\")\n",
    "        accuracy_train[n] = 100 * C / N\n",
    "\n",
    "        N = 0\n",
    "        C = 0\n",
    "        for i, blob in enumerate(valid_loader):\n",
    "            data, targets = [x.to(device=device).float() for x in blob]\n",
    "            predictions = model(data)\n",
    "            C += torch.sum(torch.argmax(predictions, dim=1) == torch.argmax(targets, dim=1))\n",
    "            N += predictions.shape[0]\n",
    "\n",
    "        #print(f\"Epoch {str(n).rjust(4)} VALID| Accuracy: {round(100 * C.cpu().item() / N, 2)}%\")\n",
    "        accuracy_valid[n] = 100 * C / N"
   ]
  },
  {
   "cell_type": "code",
   "execution_count": null,
   "metadata": {},
   "outputs": [],
   "source": [
    "plt.figure()\n",
    "plt.plot(accuracy_train)\n",
    "plt.plot(accuracy_valid)\n",
    "plt.legend(['Train', 'Valid'])\n",
    "plt.xlabel('Epoch')\n",
    "plt.ylabel('Accuracy [%]')\n",
    "plt.title('Training / validation dataset accuracy w.r.t. number of epochs')\n",
    "plt.show()"
   ]
  },
  {
   "cell_type": "markdown",
   "metadata": {},
   "source": [
    "## Train cluster"
   ]
  },
  {
   "cell_type": "code",
   "execution_count": 4,
   "metadata": {},
   "outputs": [
    {
     "name": "stdout",
     "output_type": "stream",
     "text": [
      "249 / 250"
     ]
    }
   ],
   "source": [
    "loss = ContrastiveLoss()\n",
    "n_classes = 2\n",
    "model = NetFC(layers, n_classes)\n",
    "model = model.to(device)\n",
    "optimizer = torch.optim.SGD(model.parameters(), lr=learning_rate, momentum=0.9, nesterov=True)\n",
    "scheduler = torch.optim.lr_scheduler.StepLR(optimizer, step_size=25, gamma=0.5)\n",
    "\n",
    "D = []\n",
    "L = []\n",
    "\n",
    "for n in range(n_epochs):\n",
    "    print(f\"\\r{n} / {n_epochs}\", end='')\n",
    "    model.train()\n",
    "    for i, blob in enumerate(cluster_loader):\n",
    "        optimizer.zero_grad()\n",
    "        data, targets = [x.to(device).float() for x in blob]\n",
    "        data = F.tanh(data)\n",
    "        predictions = model(data)\n",
    "        l = loss(predictions, targets)\n",
    "        l.backward()\n",
    "\n",
    "        optimizer.step()\n",
    "    scheduler.step()\n",
    "    model.eval()\n",
    "\n",
    "    data_mapped = np.zeros((len(data_all), 2))\n",
    "    labels_mapped = np.zeros(len(data_all))\n",
    "\n",
    "    idx = 0\n",
    "    model.eval()\n",
    "    for i, blob in enumerate(cluster_loader_viz):\n",
    "        with torch.no_grad():\n",
    "            data, labels = [x.to(device).float() for x in blob]\n",
    "            B = data.shape[0]\n",
    "            dm = model(data)\n",
    "            labels = torch.argmax(labels, dim=1).cpu().numpy()\n",
    "            dm = (dm).cpu().numpy()\n",
    "            labels_mapped[idx: idx + B] = labels\n",
    "            data_mapped[idx: idx + B, :] = dm\n",
    "            idx += B\n",
    "    D.append(data_mapped)\n",
    "    L.append(labels_mapped)    \n",
    "\n",
    "    \"\"\"\n",
    "    for l in np.unique(labels_mapped):\n",
    "        plt.scatter(data_mapped[labels_mapped == l, 0], data_mapped[labels_mapped==l, 1], label=data_all.classes[int(l)] + 'train')\n",
    "    plt.show()\n",
    "    \"\"\""
   ]
  },
  {
   "cell_type": "code",
   "execution_count": 5,
   "metadata": {},
   "outputs": [],
   "source": [
    "D_pre = np.array(D)\n",
    "D_interp = np.zeros((2500, 144, 2))\n",
    "for j in range(144):\n",
    "    for i in range(2):\n",
    "        D_interp[:, j, i] = np.interp(np.linspace(0, len(D), 2500), np.arange(len(D)), D_pre[:, j, i])\n",
    "\n",
    "D_interp = D_interp[:1250, :, :]\n"
   ]
  },
  {
   "cell_type": "markdown",
   "metadata": {},
   "source": [
    "## Make animation"
   ]
  },
  {
   "cell_type": "code",
   "execution_count": 6,
   "metadata": {},
   "outputs": [
    {
     "name": "stdout",
     "output_type": "stream",
     "text": [
      "0.080"
     ]
    },
    {
     "data": {
      "image/png": "[encoded data removed]",
      "text/plain": [
       "<Figure size 640x480 with 1 Axes>"
      ]
     },
     "metadata": {},
     "output_type": "display_data"
    }
   ],
   "source": [
    "import matplotlib.animation as animation\n",
    "import itertools\n",
    "\n",
    "np.random.seed(42)\n",
    "frames = D_interp.shape[0]\n",
    "L_c = []\n",
    "for l in L: L_c.append([int(x) for x in l])\n",
    "\n",
    "x = np.arange(frames)\n",
    "y = np.sin(x)\n",
    "colors = ['red', 'orange', 'yellow', 'green', 'blue', 'indigo', 'violet', 'black', 'gold', 'pink']\n",
    "\n",
    "centroids = np.zeros((frames, len(data_all.classes), 2))\n",
    "for f in range(frames):\n",
    "    for i, c in enumerate(data_all.classes):\n",
    "        centroids[f, i, :] = np.median(D_interp[f, L[i] == i, :], axis=0)\n",
    "\n",
    "fig, ax = plt.subplots()\n",
    "s = ax.scatter([], [])\n",
    "t = ax.text(0, 3.1, 'Start', ha='center', fontsize=15)\n",
    "\n",
    "lines = []\n",
    "scatters = []\n",
    "for i in range(len(data_all.classes)):\n",
    "    line, = ax.plot([], [], c=colors[i])\n",
    "    lines.append(line)\n",
    "    s = ax.scatter([], [], c=colors[i])\n",
    "    scatters.append(s)\n",
    "\n",
    "ax.set_xlim(-3, 3)\n",
    "ax.set_ylim(-3, 3)\n",
    "\n",
    "#leg = ax.legend(colors)\n",
    "line, ax.plot()\n",
    "\n",
    "c_i = [colors[l] for l in L_c[0]]\n",
    "\n",
    "def update(i):\n",
    "    print(f\"\\r{100 * (i + 1) / frames}\", end='')\n",
    "    t.set_text(f\"Epoch: {int(i // (D_interp.shape[0] / len(D)) + 1)}\")\n",
    "    for j, _ in enumerate(lines):\n",
    "        lines[j].set_xdata(centroids[:i, j, 0])\n",
    "        lines[j].set_ydata(centroids[:i, j, 1])\n",
    "        lines[j].set_alpha(0.15)\n",
    "        #lines[j].set_legend(data_all.classes[j])\n",
    "    s.set_offsets(np.column_stack([D_interp[i, :, 0], D_interp[i, :, 1]]))\n",
    "    s.set_facecolors(c_i)\n",
    "    \n",
    "        \n",
    "ani = animation.FuncAnimation(fig, update, frames=frames, interval=10)\n",
    "ani.save('set.gif', writer='pillow')"
   ]
  },
  {
   "cell_type": "code",
   "execution_count": null,
   "metadata": {},
   "outputs": [],
   "source": [
    "model.eval()\n",
    "\n",
    "data_mapped = np.zeros((len(data_all), 2))\n",
    "labels_mapped = np.zeros(len(data_all))\n",
    "\n",
    "idx = 0\n",
    "for i, blob in enumerate(train_loader):\n",
    "    with torch.no_grad():\n",
    "        data, labels = [x.to(device).float() for x in blob]\n",
    "        B = data.shape[0]\n",
    "        dm = model(data)\n",
    "        labels = torch.argmax(labels, dim=1).cpu().numpy()\n",
    "        dm = (dm).cpu().numpy()\n",
    "        labels_mapped[idx: idx + B] = labels\n",
    "        data_mapped[idx: idx + B, :] = dm\n",
    "        idx += B\n",
    "\n",
    "for l in np.unique(labels_mapped):\n",
    "    plt.scatter(data_mapped[labels_mapped == l, 0], data_mapped[labels_mapped==l, 1], label=data_all.classes[int(l)] + 'train')"
   ]
  },
  {
   "cell_type": "code",
   "execution_count": null,
   "metadata": {},
   "outputs": [],
   "source": [
    "data_mapped = np.zeros((len(data_all), 2))\n",
    "labels_mapped = np.zeros(len(data_all))\n",
    "\n",
    "idx = 0\n",
    "for i, blob in enumerate(valid_loader):\n",
    "    with torch.no_grad():\n",
    "        data, labels = [x.to(device).float() for x in blob]\n",
    "        B = data.shape[0]\n",
    "        dm = model(data)\n",
    "        labels = torch.argmax(labels, dim=1).cpu().numpy()\n",
    "        dm = (dm).cpu().numpy()\n",
    "        labels_mapped[idx: idx + B] = labels\n",
    "        data_mapped[idx: idx + B, :] = dm\n",
    "        idx += B\n",
    "\n",
    "\n",
    "for l in np.unique(labels_mapped):\n",
    "    plt.scatter(data_mapped[labels_mapped == l, 0], data_mapped[labels_mapped==l, 1], label=data_all.classes[int(l)] + ' valid')\n",
    "plt.legend(bbox_to_anchor=(1.04, 1), loc=\"center left\")\n",
    "plt.show()"
   ]
  }
 ],
 "metadata": {
  "kernelspec": {
   "display_name": "Python 3",
   "language": "python",
   "name": "python3"
  },
  "language_info": {
   "codemirror_mode": {
    "name": "ipython",
    "version": 3
   },
   "file_extension": ".py",
   "mimetype": "text/x-python",
   "name": "python",
   "nbconvert_exporter": "python",
   "pygments_lexer": "ipython3",
   "version": "3.11.4"
  }
 },
 "nbformat": 4,
 "nbformat_minor": 2
}

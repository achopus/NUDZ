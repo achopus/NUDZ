{
 "cells": [
  {
   "cell_type": "markdown",
   "metadata": {},
   "source": [
    "# Train loop and auxilary functions for NSD project"
   ]
  },
  {
   "cell_type": "code",
   "execution_count": 1,
   "metadata": {},
   "outputs": [],
   "source": [
    "%load_ext autoreload\n",
    "%autoreload 2\n",
    "\n",
    "import os\n",
    "import torch\n",
    "from dataset_pytorch import NSDDataset\n",
    "from net import Net\n",
    "from loss import ContrastiveLoss"
   ]
  },
  {
   "cell_type": "markdown",
   "metadata": {},
   "source": [
    "### Hyperparameters and network parameters"
   ]
  },
  {
   "cell_type": "code",
   "execution_count": 2,
   "metadata": {},
   "outputs": [],
   "source": [
    "n_epochs = 10\n",
    "current_epoch = 0\n",
    "batch_size = 5\n",
    "learning_rate = 5e-3\n",
    "num_classes = 11\n",
    "\n",
    "# Network parameters\n",
    "channels = [72, 128, 128, 2] # Channels to be used in each ResBlock\n",
    "reductions = ['mean', 'mean', None] # Reduction to be used in ResBlock ('max', 'mean', None)\n",
    "device = torch.device('cuda') if torch.cuda.is_available() else torch.device('cpu')"
   ]
  },
  {
   "cell_type": "markdown",
   "metadata": {},
   "source": [
    "### Train setup"
   ]
  },
  {
   "cell_type": "code",
   "execution_count": 3,
   "metadata": {},
   "outputs": [],
   "source": [
    "dataset = NSDDataset('saved_data.pickle') # WARNING - dataset takes a lot of RAM (around 6 GB), loading onto insufficient device could cause crashing\n",
    "training_type = 'clustering'\n",
    "\n",
    "model = Net(channels=channels, reductions=reductions, num_classes=num_classes, train_type=training_type).to(device)\n",
    "\n",
    "if training_type == 'clustering':\n",
    "    loss_function = ContrastiveLoss(radius=2.0)\n",
    "elif training_type == 'classification':\n",
    "    loss_function = torch.nn.CrossEntropyLoss()\n",
    "\n",
    "optimizer = torch.optim.Adam(model.parameters(), lr=learning_rate)"
   ]
  },
  {
   "cell_type": "markdown",
   "metadata": {},
   "source": [
    "### Helper function for results validation"
   ]
  },
  {
   "cell_type": "code",
   "execution_count": null,
   "metadata": {},
   "outputs": [],
   "source": [
    "# TODO: Function to calculate accuracy on the dataset"
   ]
  },
  {
   "cell_type": "markdown",
   "metadata": {},
   "source": [
    "### Train loop"
   ]
  },
  {
   "cell_type": "code",
   "execution_count": 5,
   "metadata": {},
   "outputs": [
    {
     "name": "stdout",
     "output_type": "stream",
     "text": [
      "Epoch: 1 Iter: [57 / 119]| Loss: 0.924"
     ]
    }
   ],
   "source": [
    "i = 0\n",
    "while current_epoch <= n_epochs:\n",
    "    # Load data\n",
    "    targets, inputs = dataset.get_batch(batch_size=batch_size)\n",
    "    i += 1\n",
    "    targets = targets.to(device)\n",
    "    inputs = inputs.to(device)\n",
    "\n",
    "    # Reset gradient after each iteration\n",
    "    optimizer.zero_grad()\n",
    "\n",
    "    # Forward pass\n",
    "    net_output = model(inputs)\n",
    "    \n",
    "    # Backward pass\n",
    "    loss = loss_function(net_output, targets)\n",
    "    loss.backward()\n",
    "    torch.nn.utils.clip_grad.clip_grad_norm_(model.parameters(), max_norm=1.0)\n",
    "    optimizer.step()\n",
    "    \n",
    "    # Print during epoch (sanity check)\n",
    "    with torch.no_grad():\n",
    "        print(f\"\\rEpoch: {current_epoch + 1} Iter: [{i} / {int(len(dataset) / batch_size) + 1}]| Loss: {round(loss.item(), 3)}\", end='')\n",
    "    \n",
    "    # Print after each epoch to get current results\n",
    "    if current_epoch != dataset.epoch:\n",
    "        current_epoch = dataset.epoch\n",
    "        torch.save(model.state_dict(), f'models/model_{current_epoch}.pth')\n",
    "        i = 0\n",
    "\n"
   ]
  }
 ],
 "metadata": {
  "kernelspec": {
   "display_name": "Python 3",
   "language": "python",
   "name": "python3"
  },
  "language_info": {
   "codemirror_mode": {
    "name": "ipython",
    "version": 3
   },
   "file_extension": ".py",
   "mimetype": "text/x-python",
   "name": "python",
   "nbconvert_exporter": "python",
   "pygments_lexer": "ipython3",
   "version": "3.11.4"
  }
 },
 "nbformat": 4,
 "nbformat_minor": 2
}
